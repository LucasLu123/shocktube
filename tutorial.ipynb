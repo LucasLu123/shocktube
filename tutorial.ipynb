{
 "cells": [
  {
   "cell_type": "markdown",
   "metadata": {},
   "source": [
    "# Introduction\n",
    "The purpose of this tutorial is to walk you through how to executing the code to solve the shock tube using 3 different schemes: Roe, AUSM, and AUSM+.\n",
    "Additionally, this tutorial gives a brief background on where the equations come for Roe, AUSM, and AUSM+ come from as links to tutorials and references. \n",
    "There are a lot of good comments codes. The reader is encouraged to execute the code, read the paper, and then read the code to understand how the equations from the paper are used. \n"
   ]
  },
  {
   "cell_type": "markdown",
   "metadata": {},
   "source": [
    "## Shock Tube Background\n",
    "A shock tube is a tube that has high pressure in one region and low pressure in the other separated by a diaphram such as a rupture disk. The signficance of this problem is that it can be solved analytically which makes it great for testing numerical schemes. It can also be used to test fast response pressure probes and thermocouples. When the diaphragm bursts, there is a sudden expansion wave that accelerates the flow from high pressure to low pressure indicated in region II. The angle of this expansion wave increase over time \\(you will see this later\\). This means the flow is speeding up. There's a also a flat region where nothing is happening - this is the contact discontiunity. In this region Velocity, Pressure, Temperature, and Density are all constant. After the contact discontinuity, there are two shocks to bring the pressure down to the low pressure region.\n",
    "\n",
    "\n",
    "<img src=\"docs/diagram.jpg\" style=\"width:800px;\"> </br>\n",
    "<img src=\"docs/solution.jpg\" style=\"width:800px;\">\n",
    "\n",
    "\n"
   ]
  },
  {
   "cell_type": "markdown",
   "metadata": {},
   "source": [
    "## Governing Equations\n",
    "The equation below are the governing equation for a 1D shock tube problem. The $U$ vector contains the quantities of interest added to a flux vector $F(U)$. In the code the flux vector maybe denoted as the variable $q$. \n",
    "\n",
    "$$\n",
    "\\frac{\\partial}{\\partial t} \\begin{bmatrix} \n",
    "\\rho \\\\\n",
    "\\rho u \\\\ \n",
    "rho E\n",
    "\\end{bmatrix} \n",
    "+\n",
    "\\frac{\\partial}{\\partial x} \\begin{bmatrix}\n",
    "\\rho u \\\\\n",
    "\\rho u^2 + P \\\\\n",
    "(rhoE + P) * u\n",
    "\\end{bmatrix} = 0\n",
    "$$\n",
    "\n",
    "$U$ vector consits of the quantities changing with respect to time. \n",
    "$$\n",
    "U = \n",
    "\\frac{\\partial}{\\partial t} \\begin{bmatrix} \n",
    "\\rho \\\\\n",
    "\\rho u \\\\ \n",
    "rho E\n",
    "\\end{bmatrix} \n",
    "$$ \n",
    "\n",
    "The Flux vector $F(U)$ is written as a function of $U$ this way we can define it as a function in the code and compute it at the $U_{i+1}$ point for example. \n",
    "$$\n",
    "F(U) = \\begin{bmatrix}\n",
    "\\rho u \\\\\n",
    "\\rho u^2 + P \\\\\n",
    "(rhoE + P) * u\n",
    "\\end{bmatrix}\n",
    "$$\n",
    "\n",
    "### Useful Equations \n",
    "Initial speed of sound\n",
    "$$\n",
    "a_0 = \\sqrt(\\gamma * P_0 / \\rho )\n",
    "$$\n",
    "\n",
    "$`u_0`$ is a vector defining the initial velocity in the system\n",
    "$$\n",
    "dt = CFL * dx / max(|u_0| + a_0)\n",
    "$$\n",
    "\n",
    "Where \n",
    "$$\n",
    "P = \\rho*(\\gamma - 1)(E - 0.5u^2)\n",
    "$$\n",
    "\n",
    "\n",
    "and $`\\gamma = 1.4`$ \n",
    "\n",
    "Internal Energy is \n",
    "$$\n",
    "e = c_v * T \n",
    "$$\n",
    "\n",
    "$$\n",
    "c_v = \\frac{k}{\\mu} * \\frac{1}{\\gamma-1}\n",
    "$$\n",
    "\n",
    "Viscosity $`\\mu`$ and thermal conductivity $`k`$ for air needs to be looked up. Units of $`c_v`$ is J/(Kg K)\n",
    "\n",
    "> Note:\n",
    "> Solution must be stopped before the wave hits the boundary"
   ]
  },
  {
   "cell_type": "markdown",
   "metadata": {},
   "source": [
    "# Roe Scheme\n",
    "The code for using the [Roe Scheme](https://en.wikipedia.org/wiki/Roe_solver) to solve the shock tube comes from the tutorial video below. Roe scheme applies the chain rule to the flux vector. This creates a jacobian matrix $A(U)$. This matrix can then be represented as a matrix consisting of eigenvectors and eigenvalues $V\\Lambda V^-1$ and used to compute the Roe Flux. \n",
    "\n",
    "For more detailed information, please see the comments in the code `Analytical-Roe.py` and the tutorial below. \n",
    "\n",
    "<div align=\"left\">\n",
    "      <a href=\"https://www.youtube.com/watch?v=F_PsFHvt8IU\">\n",
    "         <img src=\"https://img.youtube.com/vi/F_PsFHvt8IU/0.jpg\" style=\"width:500px;\">\n",
    "      </a>\n",
    "</div>\n",
    "\n",
    "> Reference \n",
    "> [Roe Scheme Paper](references/Roe%20Scheme.pdf)"
   ]
  },
  {
   "cell_type": "markdown",
   "metadata": {},
   "source": [
    "## Prerequisites \n",
    "Run the code below to install all the python prerequisites needed for the rest of the tutorial"
   ]
  },
  {
   "cell_type": "code",
   "execution_count": 1,
   "metadata": {},
   "outputs": [
    {
     "name": "stdout",
     "output_type": "stream",
     "text": [
      "Requirement already satisfied: moviepy in c:\\users\\pjuangph\\.conda\\envs\\dev\\lib\\site-packages (1.0.3)\n",
      "Requirement already satisfied: tqdm<5.0,>=4.11.2 in c:\\users\\pjuangph\\.conda\\envs\\dev\\lib\\site-packages (from moviepy) (4.64.0)\n",
      "Requirement already satisfied: requests<3.0,>=2.8.1 in c:\\users\\pjuangph\\.conda\\envs\\dev\\lib\\site-packages (from moviepy) (2.28.1)\n",
      "Requirement already satisfied: proglog<=1.0.0 in c:\\users\\pjuangph\\.conda\\envs\\dev\\lib\\site-packages (from moviepy) (0.1.10)\n",
      "Requirement already satisfied: imageio<3.0,>=2.5 in c:\\users\\pjuangph\\.conda\\envs\\dev\\lib\\site-packages (from moviepy) (2.21.0)\n",
      "Requirement already satisfied: numpy>=1.17.3 in c:\\users\\pjuangph\\.conda\\envs\\dev\\lib\\site-packages (from moviepy) (1.23.1)\n",
      "Requirement already satisfied: decorator<5.0,>=4.0.2 in c:\\users\\pjuangph\\.conda\\envs\\dev\\lib\\site-packages (from moviepy) (4.4.2)\n",
      "Requirement already satisfied: imageio-ffmpeg>=0.2.0 in c:\\users\\pjuangph\\.conda\\envs\\dev\\lib\\site-packages (from moviepy) (0.4.7)\n",
      "Requirement already satisfied: pillow>=8.3.2 in c:\\users\\pjuangph\\.conda\\envs\\dev\\lib\\site-packages (from imageio<3.0,>=2.5->moviepy) (9.2.0)\n",
      "Requirement already satisfied: urllib3<1.27,>=1.21.1 in c:\\users\\pjuangph\\.conda\\envs\\dev\\lib\\site-packages (from requests<3.0,>=2.8.1->moviepy) (1.26.11)\n",
      "Requirement already satisfied: certifi>=2017.4.17 in c:\\users\\pjuangph\\.conda\\envs\\dev\\lib\\site-packages (from requests<3.0,>=2.8.1->moviepy) (2022.6.15)\n",
      "Requirement already satisfied: charset-normalizer<3,>=2 in c:\\users\\pjuangph\\.conda\\envs\\dev\\lib\\site-packages (from requests<3.0,>=2.8.1->moviepy) (2.1.0)\n",
      "Requirement already satisfied: idna<4,>=2.5 in c:\\users\\pjuangph\\.conda\\envs\\dev\\lib\\site-packages (from requests<3.0,>=2.8.1->moviepy) (3.3)\n",
      "Requirement already satisfied: colorama in c:\\users\\pjuangph\\.conda\\envs\\dev\\lib\\site-packages (from tqdm<5.0,>=4.11.2->moviepy) (0.4.5)\n"
     ]
    }
   ],
   "source": [
    "!pip install -U moviepy\n",
    "from IPython.display import HTML, Video\n",
    "import os\n",
    "from moviepy.editor import *\n",
    "import moviepy\n",
    "import sys \n",
    "def create_movie(image_folder:str):\n",
    "    fps=12\n",
    "\n",
    "    image_files = [os.path.join(image_folder,img)\n",
    "                for img in os.listdir(image_folder)\n",
    "                if img.endswith(\".png\")]\n",
    "    clip = moviepy.video.io.ImageSequenceClip.ImageSequenceClip(image_files, fps=fps)\n",
    "    clip.write_videofile(f'{image_folder}.mp4')\n",
    "    clip.ipython_display()\n"
   ]
  },
  {
   "cell_type": "markdown",
   "metadata": {},
   "source": [
    "The code below demonstrates how to execute the Roe Scheme from the tutorial. "
   ]
  },
  {
   "cell_type": "code",
   "execution_count": 2,
   "metadata": {},
   "outputs": [
    {
     "name": "stderr",
     "output_type": "stream",
     "text": [
      "'rm' is not recognized as an internal or external command,\n",
      "operable program or batch file.\n"
     ]
    },
    {
     "name": "stdout",
     "output_type": "stream",
     "text": [
      "Configuration 1, Sod's Problem\n",
      "Moviepy - Building video roe_scheme_results.mp4.\n",
      "Moviepy - Writing video roe_scheme_results.mp4\n",
      "\n"
     ]
    },
    {
     "name": "stderr",
     "output_type": "stream",
     "text": [
      "                                                              \r"
     ]
    },
    {
     "name": "stdout",
     "output_type": "stream",
     "text": [
      "Moviepy - Done !\n",
      "Moviepy - video ready roe_scheme_results.mp4\n",
      "Moviepy - Building video __temp__.mp4.\n",
      "Moviepy - Writing video __temp__.mp4\n",
      "\n"
     ]
    },
    {
     "name": "stderr",
     "output_type": "stream",
     "text": [
      "                                                              \r"
     ]
    },
    {
     "name": "stdout",
     "output_type": "stream",
     "text": [
      "Moviepy - Done !\n",
      "Moviepy - video ready __temp__.mp4\n"
     ]
    },
    {
     "data": {
      "text/html": [
       "<video src=\"roe_scheme_results.mp4\" controls  width=\"800\" >\n",
       "      Your browser does not support the <code>video</code> element.\n",
       "    </video>"
      ],
      "text/plain": [
       "<IPython.core.display.Video object>"
      ]
     },
     "execution_count": 2,
     "metadata": {},
     "output_type": "execute_result"
    }
   ],
   "source": [
    "# To run the code\n",
    "!rm roe_scheme_results.mp4\n",
    "!python Analytical-Roe.py\n",
    "create_movie('roe_scheme_results')\n",
    "Video(\"roe_scheme_results.mp4\",width=800)\n"
   ]
  },
  {
   "cell_type": "markdown",
   "metadata": {},
   "source": [
    "# Ausm Scheme\n",
    "\n",
    "AUSM is an upwind finite volume scheme that provides a way to calculate the flux in between the nodes \\(i+1/2\\). This lets us integrate the flux in and out of each cell boundary. Schemes such as Roe and TVD are accuracte but require more operations to achieve this accuracy, additionally the calculation of eigenvalues makes the scheme complex.\n",
    "\n",
    "The goal of AUSM is to provide a simplified method of flux vector splitting that reduces numerical diffusion. \n",
    "\n",
    "Below are some except equations from the paper that are used in the code.For more detailed information, please see the comments in the code `ausm/analytical-ausm.py` \n",
    "\n",
    "<p align=\"center\">\n",
    "    <img src=\"ausm/domain_new.png\" alt=\"Domain\" width=\"500px\"/>\n",
    "</p>\n",
    "\n",
    "The equation below is the calculation of Flux at 1/2 \n",
    "\n",
    "<p align=\"center\">\n",
    "    <img src=\"ausm/F_half.png\" alt=\"Flux Half\" width=\"500px\"/>\n",
    "</p>\n",
    "\n",
    "Mach 1/2 is used in the Flux 1/2 equation. Below is how to compute.\n",
    "\n",
    "<p align=\"center\">\n",
    "    <img src=\"ausm/mach_half.png\" alt=\"Mach Half\" width=\"500px\"/>\n",
    "</p>\n",
    "\n",
    "Either definition of Pressure at the halfway points is fine. \n",
    "\n",
    "<p align=\"center\">\n",
    "    <img src=\"ausm/pressure_pos_neg.png\" alt=\"Pressure Positive Negative\" width=\"500px\"/>\n",
    "</p>\n",
    "\n",
    "> Reference:\n",
    "> M.-S. Liou and C. J. Steffen Jr., A new flux splitting scheme, J. Comput. Phys. 107, 23 (1993). First order scheme.\n",
    "> [AUSM](references/19910013501.pdf)\n"
   ]
  },
  {
   "cell_type": "code",
   "execution_count": 3,
   "metadata": {},
   "outputs": [
    {
     "name": "stderr",
     "output_type": "stream",
     "text": [
      "'rm' is not recognized as an internal or external command,\n",
      "operable program or batch file.\n"
     ]
    },
    {
     "name": "stdout",
     "output_type": "stream",
     "text": [
      "Moviepy - Building video ausm_results.mp4.\n",
      "Moviepy - Writing video ausm_results.mp4\n",
      "\n"
     ]
    },
    {
     "name": "stderr",
     "output_type": "stream",
     "text": [
      "                                                              \r"
     ]
    },
    {
     "name": "stdout",
     "output_type": "stream",
     "text": [
      "Moviepy - Done !\n",
      "Moviepy - video ready ausm_results.mp4\n",
      "Moviepy - Building video __temp__.mp4.\n",
      "Moviepy - Writing video __temp__.mp4\n",
      "\n"
     ]
    },
    {
     "name": "stderr",
     "output_type": "stream",
     "text": [
      "                                                              \r"
     ]
    },
    {
     "name": "stdout",
     "output_type": "stream",
     "text": [
      "Moviepy - Done !\n",
      "Moviepy - video ready __temp__.mp4\n"
     ]
    },
    {
     "data": {
      "text/html": [
       "<video src=\"ausm_results.mp4\" controls  width=\"800\" >\n",
       "      Your browser does not support the <code>video</code> element.\n",
       "    </video>"
      ],
      "text/plain": [
       "<IPython.core.display.Video object>"
      ]
     },
     "execution_count": 3,
     "metadata": {},
     "output_type": "execute_result"
    }
   ],
   "source": [
    "# Run the ausm scheme\n",
    "!rm ausm_results.mp4\n",
    "!python ausm/analytical-ausm.py  \n",
    "create_movie('ausm_results')\n",
    "Video(\"ausm_results.mp4\",width=800)"
   ]
  },
  {
   "cell_type": "markdown",
   "metadata": {},
   "source": [
    "# AUSM+ Scheme\n",
    "AUSM+ addresses some deficiencies in the AUSM scheme and improve upon the following: *This list comes from the reference. Please read the paper, the code specifically refers to equations in the paper*\n",
    "\n",
    "1. Exact resolution of 1D contact and shock discontinuities\n",
    "2. Positivity preserving density (no negative density)\n",
    "3. Elimates the [carbuncle phenomenon](https://blogs.sw.siemens.com/simcenter/mitigating-the-carbuncle-effect-for-hypersonic-cfd-simulations/)\n",
    "4. Eliminates oscillations with slow moving shocks\n",
    "5. Simplier algorithm\n",
    "6. Extension to other hyperbolic systems\n",
    "\n",
    "[AUSM+ Part I Paper](references/Sequel%20to%20AUSM%20Part%20I_AUSM%2B%20JCP129_Liou(1).pdf)"
   ]
  },
  {
   "cell_type": "code",
   "execution_count": 4,
   "metadata": {},
   "outputs": [
    {
     "name": "stderr",
     "output_type": "stream",
     "text": [
      "'rm' is not recognized as an internal or external command,\n",
      "operable program or batch file.\n"
     ]
    },
    {
     "name": "stdout",
     "output_type": "stream",
     "text": [
      "Moviepy - Building video ausm+_results.mp4.\n",
      "Moviepy - Writing video ausm+_results.mp4\n",
      "\n"
     ]
    },
    {
     "name": "stderr",
     "output_type": "stream",
     "text": [
      "                                                              \r"
     ]
    },
    {
     "name": "stdout",
     "output_type": "stream",
     "text": [
      "Moviepy - Done !\n",
      "Moviepy - video ready ausm+_results.mp4\n",
      "Moviepy - Building video __temp__.mp4.\n",
      "Moviepy - Writing video __temp__.mp4\n",
      "\n"
     ]
    },
    {
     "name": "stderr",
     "output_type": "stream",
     "text": [
      "                                                              \r"
     ]
    },
    {
     "name": "stdout",
     "output_type": "stream",
     "text": [
      "Moviepy - Done !\n",
      "Moviepy - video ready __temp__.mp4\n"
     ]
    },
    {
     "data": {
      "text/html": [
       "<video src=\"ausm+_results.mp4\" controls  width=\"800\" >\n",
       "      Your browser does not support the <code>video</code> element.\n",
       "    </video>"
      ],
      "text/plain": [
       "<IPython.core.display.Video object>"
      ]
     },
     "execution_count": 4,
     "metadata": {},
     "output_type": "execute_result"
    }
   ],
   "source": [
    "# Run the ausm scheme\n",
    "!rm ausm+_results.mp4\n",
    "!python ausm+/main_ausm_plus.py\n",
    "create_movie('ausm+_results')\n",
    "Video(\"ausm+_results.mp4\",width=800)"
   ]
  },
  {
   "cell_type": "markdown",
   "metadata": {},
   "source": [
    "# AUSM+ Higher Order\n",
    "The code presented in `ausm_higher_order/main_ausm_plus_higher_order.py` presents a small correction to the ausm paper's equation 65.\n",
    "\n",
    "<img src=\"docs/ausm+_eqn65.png\" width=\"600px\">\n",
    "\n",
    "\n",
    "\n",
    "> Reference:\n",
    "> Liou, M. S. (1996). A sequel to ausm: Ausm+. Journal of computational Physics, 129(2), 364-382.\n",
    "> [AUSM+ Part I](references/Sequel%20to%20AUSM%20Part%20II_AUSM%2B-up%20JCP214_Liou(1).pdf)\n"
   ]
  },
  {
   "cell_type": "markdown",
   "metadata": {},
   "source": [
    "## Correction\n",
    "Special thanks to Dr. Kenji Miki for discovering this correction.\n",
    "\n",
    "```python\n",
    "delta_half1 = np.zeros((3,q.shape[1])) # delta+1/2\n",
    "for i in range(0,q.shape[1]-1):\n",
    "    delta_half1[:,i] = q[:,i+1] - q[:,i] \n",
    "\n",
    "W[:,0] = q[:,0]\n",
    "W[:,1] = q[:,1]\n",
    "F_half[:,0] = flux_ausm_plus(W,gamma)[:,0]\n",
    "for i in range(1,q.shape[1]-2):\n",
    "    r_1 = delta_half1[:,i] / delta_half1[:,i-1] # Eqn 66 r_j\n",
    "    r_2 = delta_half1[:,i] / delta_half1[:,i+1] # Eqn 66 r_j+1\n",
    "\n",
    "    r_1 = np.nan_to_num(r_1,nan=0) \n",
    "    r_2 = np.nan_to_num(r_2,nan=0)\n",
    "    if np.any(r_1<0): \n",
    "        W[:,0] = q[:,i]    \n",
    "    else:\n",
    "        W[:,0] = q[:,i] + 0.5 * minmod(r_1) * ( q[:,i] - q[:,i-1] ) # W_L\n",
    "\n",
    "    if np.any(r_2<0): \n",
    "        W[:,1] = q[:,i+1]  \n",
    "    else:        \n",
    "        W[:,1] = q[:,i+1] - 0.5 * minmod(r_2) * ( q[:,i+2] - q[:,i+1] )# W_R <-- The correction is in the minmod \n",
    "    \n",
    "    F_half[:,i] = flux_ausm_plus(W,gamma)[:,0] # Take the states and passes it to ausm plus\n",
    "```\n"
   ]
  },
  {
   "cell_type": "code",
   "execution_count": 5,
   "metadata": {},
   "outputs": [
    {
     "name": "stderr",
     "output_type": "stream",
     "text": [
      "'rm' is not recognized as an internal or external command,\n",
      "operable program or batch file.\n",
      "c:\\Gitlab\\shock-tube\\ausm_higher_order\\main_ausm_plus_higher_order.py:66: RuntimeWarning: invalid value encountered in divide\n",
      "  r_1 = delta_half1[:,i] / delta_half1[:,i-1] # Eqn 66 r_j\n",
      "c:\\Gitlab\\shock-tube\\ausm_higher_order\\main_ausm_plus_higher_order.py:67: RuntimeWarning: invalid value encountered in divide\n",
      "  r_2 = delta_half1[:,i] / delta_half1[:,i+1] # Eqn 66 r_j+1\n",
      "c:\\Gitlab\\shock-tube\\ausm_higher_order\\main_ausm_plus_higher_order.py:66: RuntimeWarning: divide by zero encountered in divide\n",
      "  r_1 = delta_half1[:,i] / delta_half1[:,i-1] # Eqn 66 r_j\n",
      "c:\\Gitlab\\shock-tube\\ausm_higher_order\\main_ausm_plus_higher_order.py:67: RuntimeWarning: divide by zero encountered in divide\n",
      "  r_2 = delta_half1[:,i] / delta_half1[:,i+1] # Eqn 66 r_j+1\n",
      "c:\\Gitlab\\shock-tube\\ausm_higher_order\\main_ausm_plus_higher_order.py:66: RuntimeWarning: invalid value encountered in divide\n",
      "  r_1 = delta_half1[:,i] / delta_half1[:,i-1] # Eqn 66 r_j\n",
      "c:\\Gitlab\\shock-tube\\ausm_higher_order\\main_ausm_plus_higher_order.py:67: RuntimeWarning: invalid value encountered in divide\n",
      "  r_2 = delta_half1[:,i] / delta_half1[:,i+1] # Eqn 66 r_j+1\n",
      "c:\\Gitlab\\shock-tube\\ausm_higher_order\\main_ausm_plus_higher_order.py:66: RuntimeWarning: divide by zero encountered in divide\n",
      "  r_1 = delta_half1[:,i] / delta_half1[:,i-1] # Eqn 66 r_j\n",
      "c:\\Gitlab\\shock-tube\\ausm_higher_order\\main_ausm_plus_higher_order.py:67: RuntimeWarning: divide by zero encountered in divide\n",
      "  r_2 = delta_half1[:,i] / delta_half1[:,i+1] # Eqn 66 r_j+1\n"
     ]
    },
    {
     "name": "stdout",
     "output_type": "stream",
     "text": [
      "Moviepy - Building video ausm+_higher_order_results.mp4.\n",
      "Moviepy - Writing video ausm+_higher_order_results.mp4\n",
      "\n"
     ]
    },
    {
     "name": "stderr",
     "output_type": "stream",
     "text": [
      "                                                              \r"
     ]
    },
    {
     "name": "stdout",
     "output_type": "stream",
     "text": [
      "Moviepy - Done !\n",
      "Moviepy - video ready ausm+_higher_order_results.mp4\n",
      "Moviepy - Building video __temp__.mp4.\n",
      "Moviepy - Writing video __temp__.mp4\n",
      "\n"
     ]
    },
    {
     "name": "stderr",
     "output_type": "stream",
     "text": [
      "                                                              \r"
     ]
    },
    {
     "name": "stdout",
     "output_type": "stream",
     "text": [
      "Moviepy - Done !\n",
      "Moviepy - video ready __temp__.mp4\n"
     ]
    },
    {
     "data": {
      "text/html": [
       "<video src=\"ausm+_higher_order_results.mp4\" controls  width=\"800\" >\n",
       "      Your browser does not support the <code>video</code> element.\n",
       "    </video>"
      ],
      "text/plain": [
       "<IPython.core.display.Video object>"
      ]
     },
     "execution_count": 5,
     "metadata": {},
     "output_type": "execute_result"
    }
   ],
   "source": [
    "# Example of the code\n",
    "!rm ausm+_higher_order_results.mp4\n",
    "!python ausm_higher_order/main_ausm_plus_higher_order.py\n",
    "create_movie('ausm+_higher_order_results')\n",
    "Video(\"ausm+_higher_order_results.mp4\",width=800)"
   ]
  }
 ],
 "metadata": {
  "kernelspec": {
   "display_name": "Python 3.10.4 ('dev')",
   "language": "python",
   "name": "python3"
  },
  "language_info": {
   "codemirror_mode": {
    "name": "ipython",
    "version": 3
   },
   "file_extension": ".py",
   "mimetype": "text/x-python",
   "name": "python",
   "nbconvert_exporter": "python",
   "pygments_lexer": "ipython3",
   "version": "3.10.4"
  },
  "orig_nbformat": 4,
  "vscode": {
   "interpreter": {
    "hash": "4a044da88c5a9eacc92c27dda77751514e6feccdf99eb82b6312849b57b7fcec"
   }
  }
 },
 "nbformat": 4,
 "nbformat_minor": 2
}
